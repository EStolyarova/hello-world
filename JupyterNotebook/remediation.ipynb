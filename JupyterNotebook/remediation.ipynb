{
 "cells": [
  {
   "cell_type": "code",
   "execution_count": 1,
   "metadata": {},
   "outputs": [],
   "source": [
    "import numpy as np\n",
    "import pandas as pd\n",
    "from pathlib import Path\n",
    "import timeit\n",
    "import csv"
   ]
  },
  {
   "cell_type": "code",
   "execution_count": 2,
   "metadata": {},
   "outputs": [],
   "source": [
    "ch1 = '/home/student14/Documents/Python/Prenoms/Data/dpt2018.csv'\n",
    "ch2 = '/home/student14/Documents/Python/Prenoms/Data/Prenoms.csv'"
   ]
  },
  {
   "cell_type": "code",
   "execution_count": 4,
   "metadata": {},
   "outputs": [
    {
     "name": "stdout",
     "output_type": "stream",
     "text": [
      "['sexe', 'preusuel', 'annais', 'dpt', 'nombre']\n"
     ]
    }
   ],
   "source": [
    "df_dpt = pd.read_csv(ch1, sep = ';', header = 0, index_col=False, names=None, na_values= ['XX', 'XXXX'])\n",
    "headers = df_dpt.columns.tolist()\n",
    "print(headers)"
   ]
  },
  {
   "cell_type": "code",
   "execution_count": 7,
   "metadata": {},
   "outputs": [
    {
     "data": {
      "text/html": [
       "<div>\n",
       "<style scoped>\n",
       "    .dataframe tbody tr th:only-of-type {\n",
       "        vertical-align: middle;\n",
       "    }\n",
       "\n",
       "    .dataframe tbody tr th {\n",
       "        vertical-align: top;\n",
       "    }\n",
       "\n",
       "    .dataframe thead th {\n",
       "        text-align: right;\n",
       "    }\n",
       "</style>\n",
       "<table border=\"1\" class=\"dataframe\">\n",
       "  <thead>\n",
       "    <tr style=\"text-align: right;\">\n",
       "      <th></th>\n",
       "      <th>sexe</th>\n",
       "      <th>preusuel</th>\n",
       "      <th>annais</th>\n",
       "      <th>dpt</th>\n",
       "      <th>nombre</th>\n",
       "    </tr>\n",
       "  </thead>\n",
       "  <tbody>\n",
       "    <tr>\n",
       "      <th>3329870</th>\n",
       "      <td>2</td>\n",
       "      <td>REINE</td>\n",
       "      <td>1913.0</td>\n",
       "      <td>44.0</td>\n",
       "      <td>5</td>\n",
       "    </tr>\n",
       "    <tr>\n",
       "      <th>186542</th>\n",
       "      <td>1</td>\n",
       "      <td>BAPTISTE</td>\n",
       "      <td>1901.0</td>\n",
       "      <td>75.0</td>\n",
       "      <td>5</td>\n",
       "    </tr>\n",
       "    <tr>\n",
       "      <th>3439952</th>\n",
       "      <td>2</td>\n",
       "      <td>SIMONNE</td>\n",
       "      <td>1900.0</td>\n",
       "      <td>69.0</td>\n",
       "      <td>3</td>\n",
       "    </tr>\n",
       "    <tr>\n",
       "      <th>2438984</th>\n",
       "      <td>2</td>\n",
       "      <td>GHISLAINE</td>\n",
       "      <td>1953.0</td>\n",
       "      <td>80.0</td>\n",
       "      <td>18</td>\n",
       "    </tr>\n",
       "    <tr>\n",
       "      <th>598423</th>\n",
       "      <td>1</td>\n",
       "      <td>GHISLAIN</td>\n",
       "      <td>1937.0</td>\n",
       "      <td>76.0</td>\n",
       "      <td>3</td>\n",
       "    </tr>\n",
       "    <tr>\n",
       "      <th>1880083</th>\n",
       "      <td>2</td>\n",
       "      <td>APOLLINE</td>\n",
       "      <td>2015.0</td>\n",
       "      <td>74.0</td>\n",
       "      <td>5</td>\n",
       "    </tr>\n",
       "    <tr>\n",
       "      <th>897122</th>\n",
       "      <td>1</td>\n",
       "      <td>JÉRÉMY</td>\n",
       "      <td>1998.0</td>\n",
       "      <td>3.0</td>\n",
       "      <td>10</td>\n",
       "    </tr>\n",
       "    <tr>\n",
       "      <th>117534</th>\n",
       "      <td>1</td>\n",
       "      <td>ANTHONY</td>\n",
       "      <td>1967.0</td>\n",
       "      <td>13.0</td>\n",
       "      <td>3</td>\n",
       "    </tr>\n",
       "    <tr>\n",
       "      <th>1974617</th>\n",
       "      <td>2</td>\n",
       "      <td>CAMILLE</td>\n",
       "      <td>1983.0</td>\n",
       "      <td>34.0</td>\n",
       "      <td>31</td>\n",
       "    </tr>\n",
       "    <tr>\n",
       "      <th>2234695</th>\n",
       "      <td>2</td>\n",
       "      <td>ELINA</td>\n",
       "      <td>2003.0</td>\n",
       "      <td>77.0</td>\n",
       "      <td>5</td>\n",
       "    </tr>\n",
       "  </tbody>\n",
       "</table>\n",
       "</div>"
      ],
      "text/plain": [
       "         sexe   preusuel  annais   dpt  nombre\n",
       "3329870     2      REINE  1913.0  44.0       5\n",
       "186542      1   BAPTISTE  1901.0  75.0       5\n",
       "3439952     2    SIMONNE  1900.0  69.0       3\n",
       "2438984     2  GHISLAINE  1953.0  80.0      18\n",
       "598423      1   GHISLAIN  1937.0  76.0       3\n",
       "1880083     2   APOLLINE  2015.0  74.0       5\n",
       "897122      1     JÉRÉMY  1998.0   3.0      10\n",
       "117534      1    ANTHONY  1967.0  13.0       3\n",
       "1974617     2    CAMILLE  1983.0  34.0      31\n",
       "2234695     2      ELINA  2003.0  77.0       5"
      ]
     },
     "execution_count": 7,
     "metadata": {},
     "output_type": "execute_result"
    }
   ],
   "source": [
    "# echantillon aleatoire\n",
    "# attention il vaut mieux d'avoir .copy()\n",
    "df1 = df_dpt.sample(10).copy()\n",
    "df1"
   ]
  },
  {
   "cell_type": "markdown",
   "metadata": {},
   "source": [
    "# iloc : selectionner par index"
   ]
  },
  {
   "cell_type": "code",
   "execution_count": 9,
   "metadata": {},
   "outputs": [
    {
     "data": {
      "text/plain": [
       "sexe            2\n",
       "preusuel    REINE\n",
       "annais       1913\n",
       "dpt            44\n",
       "nombre          5\n",
       "Name: 3329870, dtype: object"
      ]
     },
     "execution_count": 9,
     "metadata": {},
     "output_type": "execute_result"
    }
   ],
   "source": [
    "df1.iloc[0]"
   ]
  },
  {
   "cell_type": "code",
   "execution_count": 11,
   "metadata": {},
   "outputs": [
    {
     "data": {
      "text/plain": [
       "sexe            2\n",
       "preusuel    REINE\n",
       "Name: 3329870, dtype: object"
      ]
     },
     "execution_count": 11,
     "metadata": {},
     "output_type": "execute_result"
    }
   ],
   "source": [
    "df1.iloc[0, 0:2]"
   ]
  },
  {
   "cell_type": "code",
   "execution_count": 12,
   "metadata": {},
   "outputs": [
    {
     "data": {
      "text/html": [
       "<div>\n",
       "<style scoped>\n",
       "    .dataframe tbody tr th:only-of-type {\n",
       "        vertical-align: middle;\n",
       "    }\n",
       "\n",
       "    .dataframe tbody tr th {\n",
       "        vertical-align: top;\n",
       "    }\n",
       "\n",
       "    .dataframe thead th {\n",
       "        text-align: right;\n",
       "    }\n",
       "</style>\n",
       "<table border=\"1\" class=\"dataframe\">\n",
       "  <thead>\n",
       "    <tr style=\"text-align: right;\">\n",
       "      <th></th>\n",
       "      <th>index</th>\n",
       "      <th>sexe</th>\n",
       "      <th>preusuel</th>\n",
       "      <th>annais</th>\n",
       "      <th>dpt</th>\n",
       "      <th>nombre</th>\n",
       "    </tr>\n",
       "  </thead>\n",
       "  <tbody>\n",
       "    <tr>\n",
       "      <th>0</th>\n",
       "      <td>3329870</td>\n",
       "      <td>2</td>\n",
       "      <td>REINE</td>\n",
       "      <td>1913.0</td>\n",
       "      <td>44.0</td>\n",
       "      <td>5</td>\n",
       "    </tr>\n",
       "    <tr>\n",
       "      <th>1</th>\n",
       "      <td>186542</td>\n",
       "      <td>1</td>\n",
       "      <td>BAPTISTE</td>\n",
       "      <td>1901.0</td>\n",
       "      <td>75.0</td>\n",
       "      <td>5</td>\n",
       "    </tr>\n",
       "    <tr>\n",
       "      <th>2</th>\n",
       "      <td>3439952</td>\n",
       "      <td>2</td>\n",
       "      <td>SIMONNE</td>\n",
       "      <td>1900.0</td>\n",
       "      <td>69.0</td>\n",
       "      <td>3</td>\n",
       "    </tr>\n",
       "    <tr>\n",
       "      <th>3</th>\n",
       "      <td>2438984</td>\n",
       "      <td>2</td>\n",
       "      <td>GHISLAINE</td>\n",
       "      <td>1953.0</td>\n",
       "      <td>80.0</td>\n",
       "      <td>18</td>\n",
       "    </tr>\n",
       "    <tr>\n",
       "      <th>4</th>\n",
       "      <td>598423</td>\n",
       "      <td>1</td>\n",
       "      <td>GHISLAIN</td>\n",
       "      <td>1937.0</td>\n",
       "      <td>76.0</td>\n",
       "      <td>3</td>\n",
       "    </tr>\n",
       "    <tr>\n",
       "      <th>5</th>\n",
       "      <td>1880083</td>\n",
       "      <td>2</td>\n",
       "      <td>APOLLINE</td>\n",
       "      <td>2015.0</td>\n",
       "      <td>74.0</td>\n",
       "      <td>5</td>\n",
       "    </tr>\n",
       "    <tr>\n",
       "      <th>6</th>\n",
       "      <td>897122</td>\n",
       "      <td>1</td>\n",
       "      <td>JÉRÉMY</td>\n",
       "      <td>1998.0</td>\n",
       "      <td>3.0</td>\n",
       "      <td>10</td>\n",
       "    </tr>\n",
       "    <tr>\n",
       "      <th>7</th>\n",
       "      <td>117534</td>\n",
       "      <td>1</td>\n",
       "      <td>ANTHONY</td>\n",
       "      <td>1967.0</td>\n",
       "      <td>13.0</td>\n",
       "      <td>3</td>\n",
       "    </tr>\n",
       "    <tr>\n",
       "      <th>8</th>\n",
       "      <td>1974617</td>\n",
       "      <td>2</td>\n",
       "      <td>CAMILLE</td>\n",
       "      <td>1983.0</td>\n",
       "      <td>34.0</td>\n",
       "      <td>31</td>\n",
       "    </tr>\n",
       "    <tr>\n",
       "      <th>9</th>\n",
       "      <td>2234695</td>\n",
       "      <td>2</td>\n",
       "      <td>ELINA</td>\n",
       "      <td>2003.0</td>\n",
       "      <td>77.0</td>\n",
       "      <td>5</td>\n",
       "    </tr>\n",
       "  </tbody>\n",
       "</table>\n",
       "</div>"
      ],
      "text/plain": [
       "     index  sexe   preusuel  annais   dpt  nombre\n",
       "0  3329870     2      REINE  1913.0  44.0       5\n",
       "1   186542     1   BAPTISTE  1901.0  75.0       5\n",
       "2  3439952     2    SIMONNE  1900.0  69.0       3\n",
       "3  2438984     2  GHISLAINE  1953.0  80.0      18\n",
       "4   598423     1   GHISLAIN  1937.0  76.0       3\n",
       "5  1880083     2   APOLLINE  2015.0  74.0       5\n",
       "6   897122     1     JÉRÉMY  1998.0   3.0      10\n",
       "7   117534     1    ANTHONY  1967.0  13.0       3\n",
       "8  1974617     2    CAMILLE  1983.0  34.0      31\n",
       "9  2234695     2      ELINA  2003.0  77.0       5"
      ]
     },
     "execution_count": 12,
     "metadata": {},
     "output_type": "execute_result"
    }
   ],
   "source": [
    "df1.reset_index()"
   ]
  },
  {
   "cell_type": "code",
   "execution_count": 14,
   "metadata": {},
   "outputs": [
    {
     "data": {
      "text/html": [
       "<div>\n",
       "<style scoped>\n",
       "    .dataframe tbody tr th:only-of-type {\n",
       "        vertical-align: middle;\n",
       "    }\n",
       "\n",
       "    .dataframe tbody tr th {\n",
       "        vertical-align: top;\n",
       "    }\n",
       "\n",
       "    .dataframe thead th {\n",
       "        text-align: right;\n",
       "    }\n",
       "</style>\n",
       "<table border=\"1\" class=\"dataframe\">\n",
       "  <thead>\n",
       "    <tr style=\"text-align: right;\">\n",
       "      <th></th>\n",
       "      <th>sexe</th>\n",
       "      <th>preusuel</th>\n",
       "      <th>annais</th>\n",
       "      <th>dpt</th>\n",
       "      <th>nombre</th>\n",
       "    </tr>\n",
       "  </thead>\n",
       "  <tbody>\n",
       "    <tr>\n",
       "      <th>3329870</th>\n",
       "      <td>2</td>\n",
       "      <td>REINE</td>\n",
       "      <td>1913.0</td>\n",
       "      <td>44.0</td>\n",
       "      <td>5</td>\n",
       "    </tr>\n",
       "    <tr>\n",
       "      <th>186542</th>\n",
       "      <td>1</td>\n",
       "      <td>BAPTISTE</td>\n",
       "      <td>1901.0</td>\n",
       "      <td>75.0</td>\n",
       "      <td>5</td>\n",
       "    </tr>\n",
       "    <tr>\n",
       "      <th>3439952</th>\n",
       "      <td>2</td>\n",
       "      <td>SIMONNE</td>\n",
       "      <td>1900.0</td>\n",
       "      <td>69.0</td>\n",
       "      <td>3</td>\n",
       "    </tr>\n",
       "    <tr>\n",
       "      <th>2438984</th>\n",
       "      <td>2</td>\n",
       "      <td>GHISLAINE</td>\n",
       "      <td>1953.0</td>\n",
       "      <td>80.0</td>\n",
       "      <td>18</td>\n",
       "    </tr>\n",
       "    <tr>\n",
       "      <th>598423</th>\n",
       "      <td>1</td>\n",
       "      <td>GHISLAIN</td>\n",
       "      <td>1937.0</td>\n",
       "      <td>76.0</td>\n",
       "      <td>3</td>\n",
       "    </tr>\n",
       "    <tr>\n",
       "      <th>1880083</th>\n",
       "      <td>2</td>\n",
       "      <td>APOLLINE</td>\n",
       "      <td>2015.0</td>\n",
       "      <td>74.0</td>\n",
       "      <td>5</td>\n",
       "    </tr>\n",
       "    <tr>\n",
       "      <th>897122</th>\n",
       "      <td>1</td>\n",
       "      <td>JÉRÉMY</td>\n",
       "      <td>1998.0</td>\n",
       "      <td>3.0</td>\n",
       "      <td>10</td>\n",
       "    </tr>\n",
       "    <tr>\n",
       "      <th>117534</th>\n",
       "      <td>1</td>\n",
       "      <td>ANTHONY</td>\n",
       "      <td>1967.0</td>\n",
       "      <td>13.0</td>\n",
       "      <td>3</td>\n",
       "    </tr>\n",
       "    <tr>\n",
       "      <th>1974617</th>\n",
       "      <td>2</td>\n",
       "      <td>CAMILLE</td>\n",
       "      <td>1983.0</td>\n",
       "      <td>34.0</td>\n",
       "      <td>31</td>\n",
       "    </tr>\n",
       "    <tr>\n",
       "      <th>2234695</th>\n",
       "      <td>2</td>\n",
       "      <td>ELINA</td>\n",
       "      <td>2003.0</td>\n",
       "      <td>77.0</td>\n",
       "      <td>5</td>\n",
       "    </tr>\n",
       "  </tbody>\n",
       "</table>\n",
       "</div>"
      ],
      "text/plain": [
       "         sexe   preusuel  annais   dpt  nombre\n",
       "3329870     2      REINE  1913.0  44.0       5\n",
       "186542      1   BAPTISTE  1901.0  75.0       5\n",
       "3439952     2    SIMONNE  1900.0  69.0       3\n",
       "2438984     2  GHISLAINE  1953.0  80.0      18\n",
       "598423      1   GHISLAIN  1937.0  76.0       3\n",
       "1880083     2   APOLLINE  2015.0  74.0       5\n",
       "897122      1     JÉRÉMY  1998.0   3.0      10\n",
       "117534      1    ANTHONY  1967.0  13.0       3\n",
       "1974617     2    CAMILLE  1983.0  34.0      31\n",
       "2234695     2      ELINA  2003.0  77.0       5"
      ]
     },
     "execution_count": 14,
     "metadata": {},
     "output_type": "execute_result"
    }
   ],
   "source": [
    "df1"
   ]
  },
  {
   "cell_type": "code",
   "execution_count": 16,
   "metadata": {},
   "outputs": [
    {
     "data": {
      "text/plain": [
       "annais    1913\n",
       "dpt         44\n",
       "nombre       5\n",
       "Name: 3329870, dtype: object"
      ]
     },
     "execution_count": 16,
     "metadata": {},
     "output_type": "execute_result"
    }
   ],
   "source": [
    "df1.iloc[0, 2:]"
   ]
  },
  {
   "cell_type": "code",
   "execution_count": 18,
   "metadata": {},
   "outputs": [
    {
     "data": {
      "text/plain": [
       "sexe              1\n",
       "preusuel    ANTHONY\n",
       "annais         1967\n",
       "dpt              13\n",
       "nombre            3\n",
       "Name: 117534, dtype: object"
      ]
     },
     "execution_count": 18,
     "metadata": {},
     "output_type": "execute_result"
    }
   ],
   "source": [
    "df1.loc[117534]"
   ]
  },
  {
   "cell_type": "code",
   "execution_count": 25,
   "metadata": {},
   "outputs": [
    {
     "data": {
      "text/html": [
       "<div>\n",
       "<style scoped>\n",
       "    .dataframe tbody tr th:only-of-type {\n",
       "        vertical-align: middle;\n",
       "    }\n",
       "\n",
       "    .dataframe tbody tr th {\n",
       "        vertical-align: top;\n",
       "    }\n",
       "\n",
       "    .dataframe thead th {\n",
       "        text-align: right;\n",
       "    }\n",
       "</style>\n",
       "<table border=\"1\" class=\"dataframe\">\n",
       "  <thead>\n",
       "    <tr style=\"text-align: right;\">\n",
       "      <th></th>\n",
       "      <th>dpt</th>\n",
       "      <th>nombre</th>\n",
       "    </tr>\n",
       "    <tr>\n",
       "      <th>preusuel</th>\n",
       "      <th></th>\n",
       "      <th></th>\n",
       "    </tr>\n",
       "  </thead>\n",
       "  <tbody>\n",
       "    <tr>\n",
       "      <th>YVAN</th>\n",
       "      <td>32.0</td>\n",
       "      <td>3</td>\n",
       "    </tr>\n",
       "    <tr>\n",
       "      <th>YVAN</th>\n",
       "      <td>47.0</td>\n",
       "      <td>9</td>\n",
       "    </tr>\n",
       "    <tr>\n",
       "      <th>YVAN</th>\n",
       "      <td>51.0</td>\n",
       "      <td>3</td>\n",
       "    </tr>\n",
       "    <tr>\n",
       "      <th>YVAN</th>\n",
       "      <td>84.0</td>\n",
       "      <td>3</td>\n",
       "    </tr>\n",
       "    <tr>\n",
       "      <th>YVAN</th>\n",
       "      <td>17.0</td>\n",
       "      <td>3</td>\n",
       "    </tr>\n",
       "    <tr>\n",
       "      <th>...</th>\n",
       "      <td>...</td>\n",
       "      <td>...</td>\n",
       "    </tr>\n",
       "    <tr>\n",
       "      <th>YVAN</th>\n",
       "      <td>972.0</td>\n",
       "      <td>4</td>\n",
       "    </tr>\n",
       "    <tr>\n",
       "      <th>YVAN</th>\n",
       "      <td>59.0</td>\n",
       "      <td>3</td>\n",
       "    </tr>\n",
       "    <tr>\n",
       "      <th>YVAN</th>\n",
       "      <td>94.0</td>\n",
       "      <td>3</td>\n",
       "    </tr>\n",
       "    <tr>\n",
       "      <th>YVAN</th>\n",
       "      <td>973.0</td>\n",
       "      <td>4</td>\n",
       "    </tr>\n",
       "    <tr>\n",
       "      <th>YVAN</th>\n",
       "      <td>NaN</td>\n",
       "      <td>5238</td>\n",
       "    </tr>\n",
       "  </tbody>\n",
       "</table>\n",
       "<p>3385 rows × 2 columns</p>\n",
       "</div>"
      ],
      "text/plain": [
       "            dpt  nombre\n",
       "preusuel               \n",
       "YVAN       32.0       3\n",
       "YVAN       47.0       9\n",
       "YVAN       51.0       3\n",
       "YVAN       84.0       3\n",
       "YVAN       17.0       3\n",
       "...         ...     ...\n",
       "YVAN      972.0       4\n",
       "YVAN       59.0       3\n",
       "YVAN       94.0       3\n",
       "YVAN      973.0       4\n",
       "YVAN        NaN    5238\n",
       "\n",
       "[3385 rows x 2 columns]"
      ]
     },
     "execution_count": 25,
     "metadata": {},
     "output_type": "execute_result"
    }
   ],
   "source": [
    "ind = df_dpt.set_index(\"preusuel\")\n",
    "ind.loc[\"YVAN\", [\"dpt\", \"nombre\"]]"
   ]
  },
  {
   "cell_type": "code",
   "execution_count": 40,
   "metadata": {},
   "outputs": [
    {
     "data": {
      "text/plain": [
       "31"
      ]
     },
     "execution_count": 40,
     "metadata": {},
     "output_type": "execute_result"
    }
   ],
   "source": [
    "df_dpt.loc[(df_dpt.annais == 1984 ) & (df_dpt.preusuel == \"ELENA\"), \"nombre\"].sum()"
   ]
  },
  {
   "cell_type": "code",
   "execution_count": null,
   "metadata": {},
   "outputs": [],
   "source": []
  },
  {
   "cell_type": "code",
   "execution_count": null,
   "metadata": {},
   "outputs": [],
   "source": []
  }
 ],
 "metadata": {
  "kernelspec": {
   "display_name": "Python 3",
   "language": "python",
   "name": "python3"
  },
  "language_info": {
   "codemirror_mode": {
    "name": "ipython",
    "version": 3
   },
   "file_extension": ".py",
   "mimetype": "text/x-python",
   "name": "python",
   "nbconvert_exporter": "python",
   "pygments_lexer": "ipython3",
   "version": "3.8.3"
  }
 },
 "nbformat": 4,
 "nbformat_minor": 4
}
